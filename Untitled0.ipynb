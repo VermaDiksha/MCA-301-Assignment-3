{
  "nbformat": 4,
  "nbformat_minor": 0,
  "metadata": {
    "colab": {
      "name": "Untitled0.ipynb",
      "version": "0.3.2",
      "provenance": [],
      "include_colab_link": true
    },
    "kernelspec": {
      "name": "python3",
      "display_name": "Python 3"
    }
  },
  "cells": [
    {
      "cell_type": "markdown",
      "metadata": {
        "id": "view-in-github",
        "colab_type": "text"
      },
      "source": [
        "<a href=\"https://colab.research.google.com/github/VermaDiksha/MCA-301-Assignment-3/blob/master/Untitled0.ipynb\" target=\"_parent\"><img src=\"https://colab.research.google.com/assets/colab-badge.svg\" alt=\"Open In Colab\"/></a>"
      ]
    },
    {
      "metadata": {
        "id": "AZwARj96D4ZC",
        "colab_type": "text"
      },
      "cell_type": "markdown",
      "source": [
        ""
      ]
    },
    {
      "metadata": {
        "id": "HlvYUtcND4Kq",
        "colab_type": "text"
      },
      "cell_type": "markdown",
      "source": [
        ""
      ]
    },
    {
      "metadata": {
        "id": "9bEP66x7CHoe",
        "colab_type": "code",
        "colab": {}
      },
      "cell_type": "code",
      "source": [
        "import tensorflow"
      ],
      "execution_count": 0,
      "outputs": []
    },
    {
      "metadata": {
        "id": "7KxaLCOZFN3P",
        "colab_type": "code",
        "colab": {}
      },
      "cell_type": "code",
      "source": [
        ""
      ],
      "execution_count": 0,
      "outputs": []
    },
    {
      "metadata": {
        "id": "Z982fgtsD1v7",
        "colab_type": "code",
        "colab": {
          "base_uri": "https://localhost:8080/",
          "height": 121
        },
        "outputId": "ceb6a67f-115a-4499-c7d5-7ec395962d4a"
      },
      "cell_type": "code",
      "source": [
        "from google.colab import drive\n",
        "drive.mount(\"/content/drive/\")"
      ],
      "execution_count": 2,
      "outputs": [
        {
          "output_type": "stream",
          "text": [
            "Go to this URL in a browser: https://accounts.google.com/o/oauth2/auth?client_id=947318989803-6bn6qk8qdgf4n4g3pfee6491hc0brc4i.apps.googleusercontent.com&redirect_uri=urn%3Aietf%3Awg%3Aoauth%3A2.0%3Aoob&scope=email%20https%3A%2F%2Fwww.googleapis.com%2Fauth%2Fdocs.test%20https%3A%2F%2Fwww.googleapis.com%2Fauth%2Fdrive%20https%3A%2F%2Fwww.googleapis.com%2Fauth%2Fdrive.photos.readonly%20https%3A%2F%2Fwww.googleapis.com%2Fauth%2Fpeopleapi.readonly&response_type=code\n",
            "\n",
            "Enter your authorization code:\n",
            "··········\n",
            "Mounted at /content/drive/\n"
          ],
          "name": "stdout"
        }
      ]
    },
    {
      "metadata": {
        "id": "MeRAXhIwFQvN",
        "colab_type": "code",
        "colab": {
          "base_uri": "https://localhost:8080/",
          "height": 521
        },
        "outputId": "3325fb37-2f95-418c-dd90-dff8c8aac89d"
      },
      "cell_type": "code",
      "source": [
        "!ls \"/content/drive/My Drive\""
      ],
      "execution_count": 3,
      "outputs": [
        {
          "output_type": "stream",
          "text": [
            "'Algorithms Assignment.gdoc'\n",
            "'automtata assmnt.docx'\n",
            "'blind-coding-rules (1).gdoc'\n",
            " blind-coding-rules.gdoc\n",
            "'Colab Notebooks'\n",
            "'Copy of blind-coding-rules.gdoc'\n",
            "'Copy of Copy of blind-coding-rules.gdoc'\n",
            " DataStructure\n",
            "'Data Structures and Algorithms - Narasimha Karumanchi.pdf'\n",
            " Face-Recognition-Attendance-System-master.zip\n",
            " Face-recognition-based-attendance-system-master.zip\n",
            " faceRegconition-master.zip\n",
            " FeasibilityStudy.txt\n",
            "'GetBlock(ANALYSIS).gdoc'\n",
            "'https:  github.gdoc'\n",
            " IMG-20151024-WA0031.jpg\n",
            " IMG-20151026-WA0019.jpg\n",
            " IMG-20151026-WA0020.jpg\n",
            " IMG-20151026-WA0116.jpg\n",
            " IMG-20151026-WA0117.jpg\n",
            " link\n",
            "'Material to study.gdoc'\n",
            " python-opencv-multiple-face-recognition-master.zip\n",
            "'Select * FROM BRAIN.gdoc'\n",
            "'Select * FROM BRAIN(Mains).gdoc'\n",
            "'Select * FROM BRAIN(Prelims).gdoc'\n",
            "'Unit 1 History opportunities and   challenges.ppt'\n",
            "'Unit 2 Motivation main.ppt'\n",
            "'Unit 6 Job Stress.ppt'\n",
            "'Untitled spreadsheet.gsheet'\n"
          ],
          "name": "stdout"
        }
      ]
    },
    {
      "metadata": {
        "id": "zGcvZ5ceFoCn",
        "colab_type": "code",
        "colab": {
          "base_uri": "https://localhost:8080/",
          "height": 34
        },
        "outputId": "9292b644-b3a6-457f-9e3d-c754076cc5e5"
      },
      "cell_type": "code",
      "source": [
        "!ls ."
      ],
      "execution_count": 4,
      "outputs": [
        {
          "output_type": "stream",
          "text": [
            "drive  sample_data\n"
          ],
          "name": "stdout"
        }
      ]
    },
    {
      "metadata": {
        "id": "eQ63r-eBGySK",
        "colab_type": "code",
        "colab": {}
      },
      "cell_type": "code",
      "source": [
        "import os\n",
        "os.chdir(\"drive/My Drive/Workshop\")"
      ],
      "execution_count": 0,
      "outputs": []
    }
  ]
}